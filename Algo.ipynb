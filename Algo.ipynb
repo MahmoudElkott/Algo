{
  "nbformat": 4,
  "nbformat_minor": 0,
  "metadata": {
    "colab": {
      "provenance": [],
      "authorship_tag": "ABX9TyPX7s0+/uerDiHZ7J7wf/yw",
      "include_colab_link": true
    },
    "kernelspec": {
      "name": "python3",
      "display_name": "Python 3"
    },
    "language_info": {
      "name": "python"
    }
  },
  "cells": [
    {
      "cell_type": "markdown",
      "metadata": {
        "id": "view-in-github",
        "colab_type": "text"
      },
      "source": [
        "<a href=\"https://colab.research.google.com/github/MahmoudElkott/Algo/blob/main/Algo.ipynb\" target=\"_parent\"><img src=\"https://colab.research.google.com/assets/colab-badge.svg\" alt=\"Open In Colab\"/></a>"
      ]
    },
    {
      "cell_type": "markdown",
      "source": [
        "# code 1"
      ],
      "metadata": {
        "id": "VaeLMY75pmVP"
      }
    },
    {
      "cell_type": "markdown",
      "source": [
        "Heapsort is a comparison-based sorting algorithm that uses a binary heap data structure. Here are the steps involved:\n",
        "\n",
        "Build a Max-Heap from the input data.\n",
        "Extract the maximum element from the heap and place it at the end of the array.\n",
        "Reduce the heap size by one and heapify the root element.\n",
        "Repeat the process until all elements are sorted.\n"
      ],
      "metadata": {
        "id": "bOIHzmmKpmdK"
      }
    },
    {
      "cell_type": "code",
      "source": [
        "# Build Max-Heap\n",
        "def build_max_heap(arr):\n",
        "    n = len(arr)\n",
        "    for i in range(n // 2 - 1, -1, -1):\n",
        "        max_heapify(arr, n, i)"
      ],
      "metadata": {
        "id": "i_gndXzmrgj-"
      },
      "execution_count": 2,
      "outputs": []
    },
    {
      "cell_type": "code",
      "source": [
        "# Max-Heapify\n",
        "def max_heapify(arr, n, i):\n",
        "    largest = i\n",
        "    left = 2 * i + 1\n",
        "    right = 2 * i + 2\n",
        "\n",
        "    if left < n and arr[left] > arr[largest]:\n",
        "        largest = left\n",
        "\n",
        "    if right < n and arr[right] > arr[largest]:\n",
        "        largest = right\n",
        "\n",
        "    if largest != i:\n",
        "        arr[i], arr[largest] = arr[largest], arr[i]\n",
        "        max_heapify(arr, n, largest)"
      ],
      "metadata": {
        "id": "ipsO_s99rgc4"
      },
      "execution_count": 3,
      "outputs": []
    },
    {
      "cell_type": "code",
      "source": [
        "# Heapsort\n",
        "def heapsort(arr):\n",
        "    n = len(arr)\n",
        "    build_max_heap(arr)\n",
        "    for i in range(n - 1, 0, -1):\n",
        "        arr[i], arr[0] = arr[0], arr[i]\n",
        "        max_heapify(arr, i, 0)"
      ],
      "metadata": {
        "id": "UhwCEP-UrgVu"
      },
      "execution_count": 4,
      "outputs": []
    },
    {
      "cell_type": "markdown",
      "source": [
        "Time Complexity:\n",
        "*   Building the Max-Heap: O(n)**bold text**\n",
        "*   Heapify Operation: O(log n)\n",
        "*   Heapsort: O(n log n)"
      ],
      "metadata": {
        "id": "LifduNWksFq_"
      }
    },
    {
      "cell_type": "code",
      "source": [
        "# Example\n",
        "arr = [1,2,3,4,7,6,11,14,20,24]\n",
        "heapsort(arr)\n",
        "print(\"Sorted array is:\", arr)"
      ],
      "metadata": {
        "colab": {
          "base_uri": "https://localhost:8080/"
        },
        "id": "e1bZDJTErgIv",
        "outputId": "7caac1dd-0b89-4fa1-ceab-ac36f517eb0e"
      },
      "execution_count": 5,
      "outputs": [
        {
          "output_type": "stream",
          "name": "stdout",
          "text": [
            "Sorted array is: [1, 2, 3, 4, 6, 7, 11, 14, 20, 24]\n"
          ]
        }
      ]
    },
    {
      "cell_type": "markdown",
      "source": [
        "# code 2\n"
      ],
      "metadata": {
        "id": "_AqTDpEzqx1Q"
      }
    },
    {
      "cell_type": "markdown",
      "source": [
        "*   يوسف عمرو منير محمد عبدالله مرزوق سكشن 7\n",
        "*   محمود محمد عبدالعال السيد سكشن 6\n",
        "\n",
        "\n"
      ],
      "metadata": {
        "id": "TbUhRdF9tIn0"
      }
    },
    {
      "cell_type": "markdown",
      "source": [
        "Kruskal's Algorithm is used to find the Minimum Spanning Tree (MST) of a graph. It works by sorting all the edges in the graph by their weight and then adding them one by one to the MST, ensuring no cycles are formed."
      ],
      "metadata": {
        "id": "qYxjnYckuC57"
      }
    },
    {
      "cell_type": "code",
      "source": [
        "#  Disjoint Set (Union-Find) Data Structure\n",
        "class DisjointSet:\n",
        "    def __init__(self, n):\n",
        "        self.parent = list(range(n))\n",
        "        self.rank = [0] * n\n",
        "\n",
        "    def find(self, u):\n",
        "        if self.parent[u] != u:\n",
        "            self.parent[u] = self.find(self.parent[u])\n",
        "        return self.parent[u]\n",
        "\n",
        "    def union(self, u, v):\n",
        "        root_u = self.find(u)\n",
        "        root_v = self.find(v)\n",
        "        if root_u != root_v:\n",
        "            if self.rank[root_u] > self.rank[root_v]:\n",
        "                self.parent[root_v] = root_u\n",
        "            elif self.rank[root_u] < self.rank[root_v]:\n",
        "                self.parent[root_u] = root_v\n",
        "            else:\n",
        "                self.parent[root_v] = root_u\n",
        "                self.rank[root_u] += 1"
      ],
      "metadata": {
        "id": "Yb3LUzC5q3JJ"
      },
      "execution_count": 6,
      "outputs": []
    },
    {
      "cell_type": "code",
      "source": [
        "#Kruskal's Algorithm\n",
        "def kruskal(graph):\n",
        "    mst = []\n",
        "    edges = sorted(graph['edges'], key=lambda edge: edge[2])\n",
        "    disjoint_set = DisjointSet(graph['vertices'])\n",
        "\n",
        "    for edge in edges:\n",
        "        u, v, weight = edge\n",
        "        if disjoint_set.find(u) != disjoint_set.find(v):\n",
        "            disjoint_set.union(u, v)\n",
        "            mst.append(edge)\n",
        "\n",
        "    return mst"
      ],
      "metadata": {
        "id": "pBpXNeTLuIck"
      },
      "execution_count": 7,
      "outputs": []
    },
    {
      "cell_type": "markdown",
      "source": [
        "Time Complexity:\n",
        "\n",
        "Sorting the edges: O(E log E), where E is the number of edges.\n",
        "Union-Find operations: Nearly constant time, O(E log V) in the worst case, where V is the number of vertices.\n"
      ],
      "metadata": {
        "id": "vZwPhOQ4vKDw"
      }
    },
    {
      "cell_type": "code",
      "source": [
        "# Example\n",
        "graph = {\n",
        "    'vertices': 4,\n",
        "    'edges': [\n",
        "        (0, 1, 10),\n",
        "        (0, 2, 6),\n",
        "        (0, 3, 5),\n",
        "        (1, 3, 15),\n",
        "        (2, 3, 4)\n",
        "    ]\n",
        "}\n",
        "\n",
        "mst = kruskal(graph)\n",
        "print(\"Edges in the MST:\", mst)"
      ],
      "metadata": {
        "colab": {
          "base_uri": "https://localhost:8080/"
        },
        "id": "BbZVJqhZuIPY",
        "outputId": "da0d560d-66d1-4286-c6d5-5a98f60abf8f"
      },
      "execution_count": 9,
      "outputs": [
        {
          "output_type": "stream",
          "name": "stdout",
          "text": [
            "Edges in the MST: [(2, 3, 4), (0, 3, 5), (0, 1, 10)]\n"
          ]
        }
      ]
    }
  ]
}